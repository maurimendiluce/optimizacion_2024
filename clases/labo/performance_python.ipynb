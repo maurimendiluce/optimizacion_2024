{
  "cells": [
    {
      "cell_type": "code",
      "execution_count": 23,
      "metadata": {
        "id": "u-bcff6pgxpT"
      },
      "outputs": [],
      "source": [
        "import numpy as np\n",
        "import timeit\n",
        "\n",
        "def estimate_pi(n):\n",
        "    n_circle = 0\n",
        "    for i in range(n):\n",
        "        x = 2*np.random.random() - 1\n",
        "        y = 2*np.random.random() - 1\n",
        "        if np.sqrt(x**2 + y**2) <= 1:\n",
        "           n_circle += 1\n",
        "    print(4*n_circle/n)\n",
        "    return 4*n_circle/n"
      ]
    },
    {
      "cell_type": "code",
      "execution_count": 24,
      "metadata": {
        "colab": {
          "base_uri": "https://localhost:8080/"
        },
        "id": "PnS5uvYKhKZT",
        "outputId": "573c5ead-e57b-4742-ce34-3209d8c29dff"
      },
      "outputs": [
        {
          "name": "stdout",
          "output_type": "stream",
          "text": [
            "3.1411\n",
            "3.141676\n",
            "3.14448\n",
            "3.143216\n",
            "3.13948\n",
            "3.141532\n",
            "3.139076\n",
            "3.143672\n",
            "1.97 s ± 62.7 ms per loop (mean ± std. dev. of 7 runs, 1 loop each)\n"
          ]
        }
      ],
      "source": [
        "n=1000000\n",
        "%timeit estimate_pi(n)"
      ]
    },
    {
      "cell_type": "code",
      "execution_count": 25,
      "metadata": {
        "id": "JogC15A1itUs"
      },
      "outputs": [],
      "source": [
        "#versión vectorizada\n",
        "def estimate_pi_vec(n):\n",
        "    xy = 2*np.random.random((n, 2)) - 1\n",
        "    n_circle = (np.sqrt((xy**2).sum(axis = 1)) <= 1).sum()\n",
        "    return 4*n_circle/n"
      ]
    },
    {
      "cell_type": "code",
      "execution_count": 26,
      "metadata": {
        "colab": {
          "base_uri": "https://localhost:8080/"
        },
        "id": "KOr3G-drixK6",
        "outputId": "b08af97c-4aad-4e6d-b909-e2d699e5ec26"
      },
      "outputs": [
        {
          "name": "stdout",
          "output_type": "stream",
          "text": [
            "55.9 ms ± 5.93 ms per loop (mean ± std. dev. of 7 runs, 10 loops each)\n"
          ]
        }
      ],
      "source": [
        "%timeit estimate_pi_vec(n)"
      ]
    },
    {
      "cell_type": "code",
      "execution_count": null,
      "metadata": {
        "colab": {
          "base_uri": "https://localhost:8080/"
        },
        "id": "v36n9qa_jH0w",
        "outputId": "025356a8-9e5a-4b76-d738-307b5e543e83"
      },
      "outputs": [],
      "source": [
        "import numba\n",
        "\n",
        "@numba.jit()\n",
        "def estimate_pi_numba(n):\n",
        "    n_circle = 0\n",
        "    for i in range(n):\n",
        "        x = 2*np.random.random() - 1\n",
        "        y = 2*np.random.random() - 1\n",
        "        if np.sqrt(x**2 + y**2) <= 1:\n",
        "           n_circle += 1\n",
        "    return 4*n_circle/n"
      ]
    },
    {
      "cell_type": "code",
      "execution_count": null,
      "metadata": {
        "colab": {
          "base_uri": "https://localhost:8080/"
        },
        "id": "mvt4JK61jLDg",
        "outputId": "76b38bf8-55b9-433b-a034-00b4a6632c01"
      },
      "outputs": [
        {
          "name": "stdout",
          "output_type": "stream",
          "text": [
            "14.3 ms ± 563 µs per loop (mean ± std. dev. of 7 runs, 1 loop each)\n"
          ]
        }
      ],
      "source": [
        "%timeit estimate_pi_numba(n)"
      ]
    }
  ],
  "metadata": {
    "colab": {
      "provenance": []
    },
    "kernelspec": {
      "display_name": "Python 3",
      "name": "python3"
    },
    "language_info": {
      "codemirror_mode": {
        "name": "ipython",
        "version": 3
      },
      "file_extension": ".py",
      "mimetype": "text/x-python",
      "name": "python",
      "nbconvert_exporter": "python",
      "pygments_lexer": "ipython3",
      "version": "3.11.5"
    }
  },
  "nbformat": 4,
  "nbformat_minor": 0
}
